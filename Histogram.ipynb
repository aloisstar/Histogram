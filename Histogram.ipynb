{
 "cells": [
  {
   "cell_type": "code",
   "execution_count": 5,
   "metadata": {
    "collapsed": true
   },
   "outputs": [],
   "source": [
    "#import numpy and pandas for data manipulation\n",
    "import numpy as np\n",
    "import pandas as pd\n",
    "#Matplotlib and Seaborn for plotting\n",
    "import matplotlib.pyplot as plt\n",
    "import seaborn as sns\n",
    "import matplotlib\n",
    "%matplotlib inline\n",
    "matplotlib.rcParams['font.size']=18\n",
    "matplotlib.rcParams['figure.dpi']=200\n",
    "from IPython.core.pylabtools import figsize\n"
   ]
  },
  {
   "cell_type": "code",
   "execution_count": 7,
   "metadata": {},
   "outputs": [
    {
     "name": "stdout",
     "output_type": "stream",
     "text": [
      "   arr_delay                      name\n",
      "0       11.0     United Air Lines Inc.\n",
      "1       20.0     United Air Lines Inc.\n",
      "2       33.0    American Airlines Inc.\n",
      "3      -18.0           JetBlue Airways\n",
      "4      -25.0      Delta Air Lines Inc.\n",
      "5       12.0     United Air Lines Inc.\n",
      "6       19.0           JetBlue Airways\n",
      "7      -14.0  ExpressJet Airlines Inc.\n",
      "8       -8.0           JetBlue Airways\n",
      "9        8.0    American Airlines Inc.\n"
     ]
    }
   ],
   "source": [
    "#read in data\n",
    "flights=pd.read_csv(\"https://media.githubusercontent.com/media/WillKoehrsen/Data-Analysis/master/univariate_dist/data/flights.csv\")\n",
    "carriers=pd.read_csv(\"https://media.githubusercontent.com/media/WillKoehrsen/Data-Analysis/master/univariate_dist/data/by_carrier.csv\")\n",
    "airlines=pd.read_csv(\"https://media.githubusercontent.com/media/WillKoehrsen/Data-Analysis/master/univariate_dist/data/airlines.csv\")\n",
    "flights=flights.merge(airlines, how='left', on='carrier')\n",
    "flights=flights[['arr_delay','name']]\n",
    "#Filter flight delay between -60 to 120 minute\n",
    "flights=flights[flights['arr_delay'].between(-60,120)]\n",
    "print(flights.head(10))"
   ]
  },
  {
   "cell_type": "code",
   "execution_count": 9,
   "metadata": {},
   "outputs": [
    {
     "data": {
      "text/plain": [
       "'/home/aloisstar'"
      ]
     },
     "execution_count": 9,
     "metadata": {},
     "output_type": "execute_result"
    }
   ],
   "source": [
    "pwd"
   ]
  },
  {
   "cell_type": "code",
   "execution_count": 17,
   "metadata": {
    "scrolled": true
   },
   "outputs": [],
   "source": [
    "flights.to_csv(\"/home/aloisstar/formatted_flights\")"
   ]
  },
  {
   "cell_type": "code",
   "execution_count": 18,
   "metadata": {},
   "outputs": [
    {
     "data": {
      "text/plain": [
       "count    317113.000000\n",
       "mean          1.297143\n",
       "std          29.064401\n",
       "min         -60.000000\n",
       "25%         -17.000000\n",
       "50%          -6.000000\n",
       "75%          11.000000\n",
       "max         120.000000\n",
       "Name: arr_delay, dtype: float64"
      ]
     },
     "execution_count": 18,
     "metadata": {},
     "output_type": "execute_result"
    }
   ],
   "source": [
    "flights=pd.read_csv(\"/home/aloisstar/formatted_flights\")\n",
    "flights['arr_delay'].describe()"
   ]
  },
  {
   "cell_type": "code",
   "execution_count": null,
   "metadata": {
    "collapsed": true
   },
   "outputs": [],
   "source": []
  }
 ],
 "metadata": {
  "kernelspec": {
   "display_name": "Python 3",
   "language": "python",
   "name": "python3"
  },
  "language_info": {
   "codemirror_mode": {
    "name": "ipython",
    "version": 3
   },
   "file_extension": ".py",
   "mimetype": "text/x-python",
   "name": "python",
   "nbconvert_exporter": "python",
   "pygments_lexer": "ipython3",
   "version": "3.6.1"
  }
 },
 "nbformat": 4,
 "nbformat_minor": 2
}
