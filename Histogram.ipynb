{
 "cells": [
  {
   "cell_type": "code",
   "execution_count": null,
   "metadata": {
    "collapsed": true
   },
   "outputs": [],
   "source": [
    "#import numpy and pandas for data manipulation\n",
    "import numpy as np\n",
    "import pandas as pd\n",
    "#Matplotlib and Seaborn for plotting\n",
    "import matplotlib.pyplot as plt\n",
    "import seaborn as sns\n",
    "import matplotlib\n",
    "%matplotlib inline\n",
    "matplotlib.rcParams['font.size']=18\n",
    "matplotlib.rcParams['figure.dpi']=200\n",
    "from IPython.core.pylabtools import figsize\n"
   ]
  },
  {
   "cell_type": "code",
   "execution_count": null,
   "metadata": {},
   "outputs": [],
   "source": [
    "#read in data\n",
    "flights=pd.read_csv(\"https://media.githubusercontent.com/media/WillKoehrsen/Data-Analysis/master/univariate_dist/data/flights.csv\")\n",
    "carriers=pd.read_csv(\"https://media.githubusercontent.com/media/WillKoehrsen/Data-Analysis/master/univariate_dist/data/by_carrier.csv\")\n",
    "airlines=pd.read_csv(\"https://media.githubusercontent.com/media/WillKoehrsen/Data-Analysis/master/univariate_dist/data/airlines.csv\")\n",
    "flights=flights.merge(airlines, how='left', on='carrier')\n",
    "flights=flights[['arr_delay','name']]\n",
    "#Filter flight delay between -60 to 120 minute\n",
    "flights=flights[flights['arr_delay'].between(-60,120)]\n",
    "print(flights.head(10))"
   ]
  },
  {
   "cell_type": "code",
   "execution_count": null,
   "metadata": {},
   "outputs": [],
   "source": [
    "pwd"
   ]
  },
  {
   "cell_type": "code",
   "execution_count": null,
   "metadata": {
    "scrolled": true
   },
   "outputs": [],
   "source": [
    "flights.to_csv(\"/home/aloisstar/formatted_flights\")"
   ]
  },
  {
   "cell_type": "code",
   "execution_count": null,
   "metadata": {},
   "outputs": [],
   "source": [
    "flights=pd.read_csv(\"/home/aloisstar/formatted_flights\")\n",
    "flights['arr_delay'].describe()"
   ]
  },
  {
   "cell_type": "code",
   "execution_count": null,
   "metadata": {
    "scrolled": true
   },
   "outputs": [],
   "source": [
    "figsize(9,7)\n",
    "# Make histogram using matplot ,bin must be an integer\n",
    "plt.hist(flights['arr_delay'],color='blue',edgecolor='black',\n",
    "        bins=int(180/5))\n",
    "#Add labels\n",
    "plt.title(\"Histogram of Arrival Array\")\n",
    "plt.xlabel(\"Delay(min)\"); plt.ylabel('Flights');\n"
   ]
  },
  {
   "cell_type": "code",
   "execution_count": null,
   "metadata": {},
   "outputs": [],
   "source": [
    "#Seaborn\n",
    "figsize(9,7)\n",
    "sns.distplot(flights['arr_delay'], hist=True, kde=False,\n",
    "            bins = int(180/5), color ='blue',\n",
    "            hist_kws={'edgecolor':'black'})\n",
    "plt.title('Histogram of arrival delays')\n",
    "plt.xlabels('Delay(min)'); plt.ylabels('Flights');"
   ]
  },
  {
   "cell_type": "code",
   "execution_count": null,
   "metadata": {},
   "outputs": [],
   "source": [
    "#Histogram with varying binwidth\n",
    "figsize(18,16)\n",
    "# show 4 different bindwidth\n",
    "for i,binwidth in enumerate([10,5,1,15]):\n",
    "    #set up a plot\n",
    "    ax=plt.subplot(2,2,i+1)\n",
    "    #Draw the plot\n",
    "    ax.hist(flights['arr_delay'],bins=int(180/binwidth),\n",
    "         color='blue',edgecolor='black')\n",
    "    #Titles and Labels\n",
    "    ax.set_title('Histogram with Binwidth %d' % binwidth,size=30)\n",
    "    ax.set_xlabel('Delay (min)',size=22)\n",
    "    ax.set_ylabel('Flights',size=22)\n",
    "plt.tight_layout()\n",
    "plt.show()"
   ]
  },
  {
   "cell_type": "code",
   "execution_count": null,
   "metadata": {},
   "outputs": [],
   "source": [
    "#Extract top 5 airline with most flights\n",
    "carrier_flights=pd.Series(flights.groupby('name')['name'].count())\n",
    "carrier_flights=carrier_flights.sort_values(ascending=False)\n",
    "top_five=carrier_flights.index[:5]\n",
    "#subset to the top 5 airline\n",
    "top_five_flights=flights[flights['name'].isin(top_five)]"
   ]
  },
  {
   "cell_type": "code",
   "execution_count": null,
   "metadata": {
    "collapsed": true
   },
   "outputs": [],
   "source": []
  },
  {
   "cell_type": "code",
   "execution_count": null,
   "metadata": {
    "collapsed": true
   },
   "outputs": [],
   "source": []
  }
 ],
 "metadata": {
  "kernelspec": {
   "display_name": "Python 3",
   "language": "python",
   "name": "python3"
  },
  "language_info": {
   "codemirror_mode": {
    "name": "ipython",
    "version": 3
   },
   "file_extension": ".py",
   "mimetype": "text/x-python",
   "name": "python",
   "nbconvert_exporter": "python",
   "pygments_lexer": "ipython3",
   "version": "3.6.1"
  }
 },
 "nbformat": 4,
 "nbformat_minor": 2
}
